{
 "cells": [
  {
   "cell_type": "markdown",
   "metadata": {},
   "source": [
    "## SQL Assignment - 6"
   ]
  },
  {
   "cell_type": "markdown",
   "metadata": {},
   "source": [
    "1) Write an SQL query to print details of the Workers who have joined in Feb’2014.\n",
    "\n",
    "ans.\n",
    "\n",
    "select* from Worker where year(JOINING_DATE) = 2014 and month(JOINING_DATE) = 2;\n"
   ]
  },
  {
   "cell_type": "markdown",
   "metadata": {},
   "source": [
    "2) Write an SQL query to fetch duplicate records having matching data in some fields of a table.\n",
    "\n",
    "ans.\n",
    "\n",
    "select WORKER_ID, count(WORKER_ID)\n",
    "from Worker\n",
    "group by WORKER_ID\n",
    "having count(WORKER_ID)>1"
   ]
  },
  {
   "cell_type": "markdown",
   "metadata": {},
   "source": [
    "3) How to remove duplicate rows from Employees table.\n",
    "\n",
    "ans\n",
    "\n",
    "with employeeCTE as\n",
    "(\n",
    "select *, ROW_NUMBER() over(partition by First_Name order by First_Name) as Rownumber\n",
    "\tfrom employees\n",
    ")\n",
    "\n",
    "delete from employeeCTE where Rownumber > 1\n",
    "\n",
    "\n",
    "##### Steps followed to remove duplicate rows from Employees table,\n",
    "1. Called a Common Table Expression (CTE), employeeCTE. (CTE is an temporary result sets)\n",
    "2. Data is partitioned by First_name column and ordered by First_name column.\n",
    "3. The CTE produces a new column Rownumber and the column mentions the number of times the value is present. \n",
    "4. We delete all those records which are greater than 1 in Rownumber, by this only unique value will be present in the table."
   ]
  },
  {
   "cell_type": "code",
   "execution_count": null,
   "metadata": {},
   "outputs": [],
   "source": []
  }
 ],
 "metadata": {
  "kernelspec": {
   "display_name": "Python 3",
   "language": "python",
   "name": "python3"
  },
  "language_info": {
   "codemirror_mode": {
    "name": "ipython",
    "version": 3
   },
   "file_extension": ".py",
   "mimetype": "text/x-python",
   "name": "python",
   "nbconvert_exporter": "python",
   "pygments_lexer": "ipython3",
   "version": "3.7.6"
  }
 },
 "nbformat": 4,
 "nbformat_minor": 4
}
