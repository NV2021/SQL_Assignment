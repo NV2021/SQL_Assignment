{
 "cells": [
  {
   "cell_type": "markdown",
   "metadata": {},
   "source": [
    "## SQL Assignment - 1"
   ]
  },
  {
   "cell_type": "markdown",
   "metadata": {},
   "source": [
    "1) Write an SQL query to fetch “FIRST_NAME” from Worker table using the alias name as <WORKER_NAME>\n",
    "\n",
    "ans.\n",
    "\n",
    "SELECT FIRST_NAME AS WORKER_NAME FROM Worker;"
   ]
  },
  {
   "cell_type": "markdown",
   "metadata": {},
   "source": [
    "2) Write an SQL query to fetch unique values of DEPARTMENT from Worker table.\n",
    "\n",
    "ans.\n",
    "\n",
    "SELECT DISTINCT DEPARTMENT FROM Worker;"
   ]
  },
  {
   "cell_type": "markdown",
   "metadata": {},
   "source": [
    "3) Write an SQL query to show the last 5 record from a table.\n",
    "\n",
    "ans.\n",
    "\n",
    "(The worker table must be having an 'Worker_ID' column, so we will arrange the Worker_ID in descending order and then find its top 5 records, which is practically last 5)\n",
    "\n",
    "SELECT TOP 5 * FROM Worker\n",
    "ORDER BY Worker_ID DESC;"
   ]
  }
 ],
 "metadata": {
  "kernelspec": {
   "display_name": "Python 3",
   "language": "python",
   "name": "python3"
  },
  "language_info": {
   "codemirror_mode": {
    "name": "ipython",
    "version": 3
   },
   "file_extension": ".py",
   "mimetype": "text/x-python",
   "name": "python",
   "nbconvert_exporter": "python",
   "pygments_lexer": "ipython3",
   "version": "3.7.6"
  }
 },
 "nbformat": 4,
 "nbformat_minor": 4
}
