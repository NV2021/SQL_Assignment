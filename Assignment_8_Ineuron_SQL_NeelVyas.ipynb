{
 "cells": [
  {
   "cell_type": "markdown",
   "metadata": {},
   "source": [
    "## SQL Assignment - 8"
   ]
  },
  {
   "cell_type": "markdown",
   "metadata": {},
   "source": [
    "- Q-15. Write an SQL query to fetch intersecting records of two tables.\n",
    "\n",
    "ans.\n",
    "\n",
    "select Column_name\n",
    "from Table_1\n",
    "\n",
    "intersect\n",
    "\n",
    "select Column_Name\n",
    "from Table_2;"
   ]
  },
  {
   "cell_type": "markdown",
   "metadata": {},
   "source": [
    "- Q-16. Write an SQL query to show records from one table that another table does not have.\n",
    "\n",
    "ans.\n",
    "\n",
    "select *\n",
    "\n",
    "from Table_1\n",
    "\n",
    "where Column_name not in (select Column_name from Table_2)"
   ]
  }
 ],
 "metadata": {
  "kernelspec": {
   "display_name": "Python 3",
   "language": "python",
   "name": "python3"
  },
  "language_info": {
   "codemirror_mode": {
    "name": "ipython",
    "version": 3
   },
   "file_extension": ".py",
   "mimetype": "text/x-python",
   "name": "python",
   "nbconvert_exporter": "python",
   "pygments_lexer": "ipython3",
   "version": "3.7.6"
  }
 },
 "nbformat": 4,
 "nbformat_minor": 4
}
